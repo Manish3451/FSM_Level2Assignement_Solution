{
  "nbformat": 4,
  "nbformat_minor": 0,
  "metadata": {
    "colab": {
      "provenance": []
    },
    "kernelspec": {
      "name": "python3",
      "display_name": "Python 3"
    },
    "language_info": {
      "name": "python"
    }
  },
  "cells": [
    {
      "cell_type": "markdown",
      "source": [
        "\n",
        "\n",
        "# **Naive_Bayes_Implementation** "
      ],
      "metadata": {
        "id": "3mzioH4q60C1"
      }
    },
    {
      "cell_type": "code",
      "source": [
        "import numpy as np\n",
        "import pandas as pd\n",
        "import matplotlib.pyplot as plt"
      ],
      "metadata": {
        "id": "7ytion-iIFSk"
      },
      "execution_count": 2,
      "outputs": []
    },
    {
      "cell_type": "code",
      "source": [
        "train = pd.read_csv('train_clean.csv')\n",
        "test = pd.read_csv('test_clean.csv')"
      ],
      "metadata": {
        "id": "NFHQ8SdpI_Wy"
      },
      "execution_count": 6,
      "outputs": []
    },
    {
      "cell_type": "markdown",
      "source": [
        "**Dropping rows with null value**"
      ],
      "metadata": {
        "id": "XlzWYdZpJUxN"
      }
    },
    {
      "cell_type": "code",
      "source": [
        "train.dropna(inplace=True)"
      ],
      "metadata": {
        "id": "m0QD2iVRJFW5"
      },
      "execution_count": 7,
      "outputs": []
    },
    {
      "cell_type": "code",
      "source": [
        "test.dropna(inplace = True)\n"
      ],
      "metadata": {
        "id": "rro-qbN50kBY"
      },
      "execution_count": 8,
      "outputs": []
    },
    {
      "cell_type": "markdown",
      "source": [
        "Train-Validation Split"
      ],
      "metadata": {
        "id": "9U12ZG6Q1aTP"
      }
    },
    {
      "cell_type": "code",
      "source": [
        "train_size = int(0.8 * len(train))\n",
        "\n",
        "train_set = train.iloc[:train_size , : ]\n",
        "val_set = train.iloc[train_size: , : ]"
      ],
      "metadata": {
        "id": "qNdLtLAX1TL4"
      },
      "execution_count": 9,
      "outputs": []
    },
    {
      "cell_type": "markdown",
      "source": [
        "Defining X_train , X_val , y_train and y_val"
      ],
      "metadata": {
        "id": "4qtR9aOi1pH_"
      }
    },
    {
      "cell_type": "code",
      "source": [
        "X_train = train_set.drop(['Survived'],axis = 1)\n",
        "X_val = val_set.drop([\"Survived\"],axis = 1)\n",
        "y_train = train_set[\"Survived\"]\n",
        "y_val = val_set[\"Survived\"]"
      ],
      "metadata": {
        "id": "Skrk4aVm1lVE"
      },
      "execution_count": 10,
      "outputs": []
    },
    {
      "cell_type": "markdown",
      "source": [
        "# **Code for implementation of NaiveBayes algorithm**"
      ],
      "metadata": {
        "id": "gfDaGXc32c7W"
      }
    },
    {
      "cell_type": "markdown",
      "source": [
        "![244777.png](data:image/png;base64,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)"
      ],
      "metadata": {
        "id": "i0yqq1yz2Mww"
      }
    },
    {
      "cell_type": "code",
      "source": [
        "class NaiveBayesClassifier():\n",
        "    \n",
        "    # Bayes Theorem : P(y|X) = P(X|y) * P(y) / P(X)\n",
        "    \n",
        "    def calc_prior(self, features, target):\n",
        "        \n",
        "        # prior probability P(y)\n",
        "        # calculate prior probabilities        \n",
        "        self.prior = (features.groupby(target).apply(lambda x: len(x)) / self.rows).to_numpy()\n",
        "        return self.prior\n",
        "    \n",
        "    def calc_statistics(self, features, target):\n",
        "        \n",
        "        #calculate mean, variance for each column and convert to numpy array         \n",
        "        self.mean = features.groupby(target).apply(np.mean).to_numpy()\n",
        "        self.var = features.groupby(target).apply(np.var).to_numpy()\n",
        "              \n",
        "        return self.mean, self.var\n",
        "    \n",
        "    def gaussian_density(self, class_idx, x):     \n",
        "        \n",
        "        #calculate probability from gaussian density function (normally distributed)        \n",
        "        mean = self.mean[class_idx]\n",
        "        var = self.var[class_idx]\n",
        "        numerator = np.exp((-1/2)*((x-mean)**2) / (2 * var))\n",
        "        \n",
        "\n",
        "        denominator = np.sqrt(2 * np.pi * var)\n",
        "        prob = numerator / denominator\n",
        "        return prob\n",
        "    \n",
        "    def calc_posterior(self, x):\n",
        "        posteriors = []\n",
        "\n",
        "        # calculate posterior probability for each class\n",
        "        for i in range(self.count):\n",
        "            prior = np.log(self.prior[i])                                 ## use the log to make it more numerically stable\n",
        "            conditional = np.sum(np.log(self.gaussian_density(i, x)))     # use the log to make it more numerically stable\n",
        "            posterior = prior + conditional\n",
        "            posteriors.append(posterior)\n",
        "        # return class with highest posterior probability\n",
        "        return self.classes[np.argmax(posteriors)]\n",
        "     \n",
        "        # function for model training\n",
        "    def fit(self, features, target):\n",
        "        self.classes = np.unique(target)\n",
        "        self.count = len(self.classes)\n",
        "        self.feature_nums = features.shape[1]\n",
        "        self.rows = features.shape[0]\n",
        "        \n",
        "        self.calc_statistics(features, target)\n",
        "        self.calc_prior(features, target)\n",
        "        \n",
        "        # function to predict outputs for new datapoints\n",
        "    def predict(self, features):\n",
        "        preds = [self.calc_posterior(f) for f in features.to_numpy()]\n",
        "        return preds\n"
      ],
      "metadata": {
        "id": "fPKSipvB1hnG"
      },
      "execution_count": 11,
      "outputs": []
    },
    {
      "cell_type": "code",
      "source": [
        "nbc = NaiveBayesClassifier()    # object of class NaiveBayesClassifier\n",
        "nbc.fit(X_train, y_train)       # Fitting the train data"
      ],
      "metadata": {
        "id": "ry94eVyI2rGh"
      },
      "execution_count": null,
      "outputs": []
    },
    {
      "cell_type": "code",
      "source": [
        "y_preds = nbc.predict(X_val)    # Predicting for validation set"
      ],
      "metadata": {
        "id": "Eqmvpdz42vi7"
      },
      "execution_count": 13,
      "outputs": []
    },
    {
      "cell_type": "markdown",
      "source": [
        "Function to calculate accuracy"
      ],
      "metadata": {
        "id": "3O2aSaAd26Sn"
      }
    },
    {
      "cell_type": "code",
      "source": [
        "def accuracy(y_true,y_pred,normalize=True):\n",
        "    accuracy=[]\n",
        "    for i in range(len(y_pred)):\n",
        "        if y_pred[i]==y_true[i]:\n",
        "            accuracy.append(1)\n",
        "        else:\n",
        "            accuracy.append(0)\n",
        "    if normalize==True:\n",
        "        return np.mean(accuracy)\n",
        "    if normalize==False:\n",
        "        return sum(accuracy)"
      ],
      "metadata": {
        "id": "xliKLsVg24vh"
      },
      "execution_count": 14,
      "outputs": []
    },
    {
      "cell_type": "code",
      "source": [
        "print(\"Accuracy : {} %\".format(round(accuracy(np.array(y_val) , y_preds )*100,2)))"
      ],
      "metadata": {
        "id": "UFbhC-OJ3Apc",
        "outputId": "a5e7ed81-9001-4465-86b3-7a2b7a25dc05",
        "colab": {
          "base_uri": "https://localhost:8080/"
        }
      },
      "execution_count": 15,
      "outputs": [
        {
          "output_type": "stream",
          "name": "stdout",
          "text": [
            "Accuracy : 82.02 %\n"
          ]
        }
      ]
    },
    {
      "cell_type": "code",
      "source": [],
      "metadata": {
        "id": "-RoB4EKv3C8m"
      },
      "execution_count": null,
      "outputs": []
    }
  ]
}